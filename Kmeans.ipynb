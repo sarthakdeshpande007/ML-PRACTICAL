{
  "nbformat": 4,
  "nbformat_minor": 0,
  "metadata": {
    "colab": {
      "provenance": []
    },
    "kernelspec": {
      "name": "python3",
      "display_name": "Python 3"
    },
    "language_info": {
      "name": "python"
    }
  },
  "cells": [
    {
      "cell_type": "code",
      "execution_count": 2,
      "metadata": {
        "colab": {
          "base_uri": "https://localhost:8080/"
        },
        "id": "XbIOtIo1SA9q",
        "outputId": "504ef13d-f466-45b9-f93f-1f8d6f063b06"
      },
      "outputs": [
        {
          "output_type": "stream",
          "name": "stdout",
          "text": [
            "Final centroids:\n",
            " [[-0.11556425  0.03402232]\n",
            " [ 5.12824872  5.04348765]]\n",
            "Cluster labels:\n",
            " [0 0 0 0 0 0 0 0 0 0 0 0 0 0 0 0 0 0 0 0 0 0 0 0 0 0 0 0 0 0 0 0 0 0 0 0 0\n",
            " 0 0 0 0 0 0 0 0 0 0 0 0 0 0 0 0 0 0 0 0 0 0 0 0 0 0 0 0 0 0 0 0 0 0 0 0 0\n",
            " 0 0 0 0 0 0 0 0 0 0 0 0 0 0 0 0 0 0 0 0 0 0 0 0 0 0 1 1 1 1 1 1 1 1 1 1 1\n",
            " 1 1 1 1 1 1 1 1 1 1 1 1 1 1 1 1 1 1 1 1 1 1 1 1 1 1 1 1 1 1 1 1 1 1 1 1 1\n",
            " 1 1 1 1 1 1 1 1 1 1 1 1 1 1 1 1 1 1 1 1 1 1 1 1 1 1 1 1 1 1 1 1 1 1 1 1 1\n",
            " 1 1 1 1 1 1 1 1 1 1 1 1 1 1 1]\n"
          ]
        }
      ],
      "source": [
        "import numpy as np\n",
        "\n",
        "def k_means(X, k, max_iters=100, tol=1e-4):\n",
        "    # Initialize centroids randomly\n",
        "    centroids = X[np.random.choice(X.shape[0], k, replace=False)]\n",
        "\n",
        "    for _ in range(max_iters):\n",
        "        # Assign each data point to the nearest centroid\n",
        "        distances = np.linalg.norm(X[:, np.newaxis] - centroids, axis=2)\n",
        "        labels = np.argmin(distances, axis=1)\n",
        "\n",
        "        # Update centroids\n",
        "        new_centroids = np.array([X[labels == i].mean(axis=0) for i in range(k)])\n",
        "\n",
        "        # Check for convergence\n",
        "        if np.linalg.norm(new_centroids - centroids) < tol:\n",
        "            break\n",
        "\n",
        "        centroids = new_centroids\n",
        "\n",
        "    return centroids, labels\n",
        "\n",
        "# Example usage\n",
        "np.random.seed(42)\n",
        "# Generating random data with two clusters\n",
        "data = np.concatenate([np.random.normal(loc=0, scale=1, size=(100, 2)),\n",
        "                       np.random.normal(loc=5, scale=1, size=(100, 2))])\n",
        "\n",
        "k = 2  # Number of clusters\n",
        "centroids, labels = k_means(data, k)\n",
        "\n",
        "print(\"Final centroids:\\n\", centroids)\n",
        "print(\"Cluster labels:\\n\", labels)"
      ]
    }
  ]
}